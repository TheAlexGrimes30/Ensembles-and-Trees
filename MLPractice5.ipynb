{
 "cells": [
  {
   "cell_type": "markdown",
   "source": [
    "Гопиенко Александр\n",
    "КИ22-17/2Б\n",
    "Практическая работа №5 по машинному обучению \n",
    "Задание №1"
   ],
   "metadata": {
    "collapsed": false
   },
   "id": "eeafad778210f9a8"
  },
  {
   "cell_type": "code",
   "execution_count": 82,
   "outputs": [],
   "source": [
    "import pandas as pd\n",
    "import numpy as np\n",
    "from sklearn.preprocessing import OneHotEncoder, MinMaxScaler, StandardScaler\n",
    "from sklearn.impute import KNNImputer\n",
    "from sklearn.tree import DecisionTreeClassifier, DecisionTreeRegressor\n",
    "from sklearn.ensemble import BaggingClassifier, AdaBoostClassifier, StackingClassifier\n",
    "from sklearn.ensemble import BaggingRegressor, AdaBoostRegressor, StackingRegressor, RandomForestRegressor\n",
    "from sklearn.model_selection import train_test_split, GridSearchCV, cross_val_score, KFold\n",
    "from sklearn.metrics import accuracy_score, mean_squared_error\n",
    "from sklearn.linear_model import LogisticRegression, LinearRegression"
   ],
   "metadata": {
    "collapsed": false,
    "ExecuteTime": {
     "end_time": "2024-02-03T06:58:13.965243800Z",
     "start_time": "2024-02-03T06:58:13.820018200Z"
    }
   },
   "id": "39ba80455265abb"
  },
  {
   "cell_type": "markdown",
   "source": [
    "Выполним обработку датасета telecom_churn для классификации\n",
    "Начнём с кодирования категориальных признаков"
   ],
   "metadata": {
    "collapsed": false
   },
   "id": "220cba29e346e6c8"
  },
  {
   "cell_type": "code",
   "execution_count": 83,
   "outputs": [
    {
     "name": "stdout",
     "output_type": "stream",
     "text": [
      "<class 'pandas.core.frame.DataFrame'>\n",
      "RangeIndex: 3333 entries, 0 to 3332\n",
      "Data columns (total 69 columns):\n",
      " #   Column                  Non-Null Count  Dtype  \n",
      "---  ------                  --------------  -----  \n",
      " 0   Account length          3333 non-null   int64  \n",
      " 1   Area code               3333 non-null   int64  \n",
      " 2   Number vmail messages   3333 non-null   int64  \n",
      " 3   Total day minutes       3333 non-null   float64\n",
      " 4   Total day calls         3333 non-null   int64  \n",
      " 5   Total day charge        3333 non-null   float64\n",
      " 6   Total eve minutes       3333 non-null   float64\n",
      " 7   Total eve calls         3333 non-null   int64  \n",
      " 8   Total eve charge        3333 non-null   float64\n",
      " 9   Total night minutes     3333 non-null   float64\n",
      " 10  Total night calls       3333 non-null   int64  \n",
      " 11  Total night charge      3333 non-null   float64\n",
      " 12  Total intl minutes      3333 non-null   float64\n",
      " 13  Total intl calls        3333 non-null   int64  \n",
      " 14  Total intl charge       3333 non-null   float64\n",
      " 15  Customer service calls  3333 non-null   int64  \n",
      " 16  Churn                   3333 non-null   int32  \n",
      " 17  State_AL                3333 non-null   float64\n",
      " 18  State_AR                3333 non-null   float64\n",
      " 19  State_AZ                3333 non-null   float64\n",
      " 20  State_CA                3333 non-null   float64\n",
      " 21  State_CO                3333 non-null   float64\n",
      " 22  State_CT                3333 non-null   float64\n",
      " 23  State_DC                3333 non-null   float64\n",
      " 24  State_DE                3333 non-null   float64\n",
      " 25  State_FL                3333 non-null   float64\n",
      " 26  State_GA                3333 non-null   float64\n",
      " 27  State_HI                3333 non-null   float64\n",
      " 28  State_IA                3333 non-null   float64\n",
      " 29  State_ID                3333 non-null   float64\n",
      " 30  State_IL                3333 non-null   float64\n",
      " 31  State_IN                3333 non-null   float64\n",
      " 32  State_KS                3333 non-null   float64\n",
      " 33  State_KY                3333 non-null   float64\n",
      " 34  State_LA                3333 non-null   float64\n",
      " 35  State_MA                3333 non-null   float64\n",
      " 36  State_MD                3333 non-null   float64\n",
      " 37  State_ME                3333 non-null   float64\n",
      " 38  State_MI                3333 non-null   float64\n",
      " 39  State_MN                3333 non-null   float64\n",
      " 40  State_MO                3333 non-null   float64\n",
      " 41  State_MS                3333 non-null   float64\n",
      " 42  State_MT                3333 non-null   float64\n",
      " 43  State_NC                3333 non-null   float64\n",
      " 44  State_ND                3333 non-null   float64\n",
      " 45  State_NE                3333 non-null   float64\n",
      " 46  State_NH                3333 non-null   float64\n",
      " 47  State_NJ                3333 non-null   float64\n",
      " 48  State_NM                3333 non-null   float64\n",
      " 49  State_NV                3333 non-null   float64\n",
      " 50  State_NY                3333 non-null   float64\n",
      " 51  State_OH                3333 non-null   float64\n",
      " 52  State_OK                3333 non-null   float64\n",
      " 53  State_OR                3333 non-null   float64\n",
      " 54  State_PA                3333 non-null   float64\n",
      " 55  State_RI                3333 non-null   float64\n",
      " 56  State_SC                3333 non-null   float64\n",
      " 57  State_SD                3333 non-null   float64\n",
      " 58  State_TN                3333 non-null   float64\n",
      " 59  State_TX                3333 non-null   float64\n",
      " 60  State_UT                3333 non-null   float64\n",
      " 61  State_VA                3333 non-null   float64\n",
      " 62  State_VT                3333 non-null   float64\n",
      " 63  State_WA                3333 non-null   float64\n",
      " 64  State_WI                3333 non-null   float64\n",
      " 65  State_WV                3333 non-null   float64\n",
      " 66  State_WY                3333 non-null   float64\n",
      " 67  International plan_Yes  3333 non-null   float64\n",
      " 68  Voice mail plan_Yes     3333 non-null   float64\n",
      "dtypes: float64(60), int32(1), int64(8)\n",
      "memory usage: 1.7 MB\n"
     ]
    }
   ],
   "source": [
    "df_clf = pd.read_csv(\"telecom_churn.csv\")\n",
    "df_clf['Churn'] = df_clf['Churn'].astype(int)\n",
    "encoder = OneHotEncoder(sparse_output=False, drop='first')\n",
    "categorical_features = df_clf.select_dtypes(include=['object']).columns\n",
    "encoded_features = encoder.fit_transform(df_clf[categorical_features])\n",
    "df_encoded = pd.DataFrame(encoded_features, columns=encoder.get_feature_names_out(categorical_features))\n",
    "df_clf = pd.concat([df_clf, df_encoded], axis=1)\n",
    "df_clf.drop(categorical_features, axis=1, inplace=True)\n",
    "df_clf.info()"
   ],
   "metadata": {
    "collapsed": false,
    "ExecuteTime": {
     "end_time": "2024-02-03T06:58:14.012124600Z",
     "start_time": "2024-02-03T06:58:13.823026400Z"
    }
   },
   "id": "e31cacb8dcd4b99a"
  },
  {
   "cell_type": "markdown",
   "source": [
    "Избавимся от выбросов в датасете telecom_churn"
   ],
   "metadata": {
    "collapsed": false
   },
   "id": "93f6074d3e94146c"
  },
  {
   "cell_type": "code",
   "execution_count": 84,
   "outputs": [
    {
     "name": "stdout",
     "output_type": "stream",
     "text": [
      "Количество выбросов в столбце 'Account length': 0 (0.0)\n",
      "Количество выбросов в столбце 'Area code': 0 (0.0)\n",
      "Количество выбросов в столбце 'Number vmail messages': 0 (0.0)\n",
      "Количество выбросов в столбце 'Total day minutes': 2 (0.0)\n",
      "Количество выбросов в столбце 'Total day calls': 5 (0.0)\n",
      "Количество выбросов в столбце 'Total day charge': 2 (0.0)\n",
      "Количество выбросов в столбце 'Total eve minutes': 1 (0.0)\n",
      "Количество выбросов в столбце 'Total eve calls': 0 (0.0)\n",
      "Количество выбросов в столбце 'Total eve charge': 1 (0.0)\n",
      "Количество выбросов в столбце 'Total night minutes': 2 (0.0)\n",
      "Количество выбросов в столбце 'Total night calls': 0 (0.0)\n",
      "Количество выбросов в столбце 'Total night charge': 2 (0.0)\n",
      "Количество выбросов в столбце 'Total intl minutes': 0 (0.0)\n",
      "Количество выбросов в столбце 'Total intl calls': 0 (0.0)\n",
      "Количество выбросов в столбце 'Total intl charge': 0 (0.0)\n",
      "Количество выбросов в столбце 'Customer service calls': 0 (0.0)\n",
      "Количество выбросов в столбце 'Churn': 483 (0.14)\n",
      "Количество выбросов в столбце 'State_AL': 80 (0.02)\n",
      "Количество выбросов в столбце 'State_AR': 55 (0.02)\n",
      "Количество выбросов в столбце 'State_AZ': 64 (0.02)\n",
      "Количество выбросов в столбце 'State_CA': 34 (0.01)\n",
      "Количество выбросов в столбце 'State_CO': 66 (0.02)\n",
      "Количество выбросов в столбце 'State_CT': 74 (0.02)\n",
      "Количество выбросов в столбце 'State_DC': 54 (0.02)\n",
      "Количество выбросов в столбце 'State_DE': 61 (0.02)\n",
      "Количество выбросов в столбце 'State_FL': 63 (0.02)\n",
      "Количество выбросов в столбце 'State_GA': 54 (0.02)\n",
      "Количество выбросов в столбце 'State_HI': 53 (0.02)\n",
      "Количество выбросов в столбце 'State_IA': 44 (0.01)\n",
      "Количество выбросов в столбце 'State_ID': 73 (0.02)\n",
      "Количество выбросов в столбце 'State_IL': 58 (0.02)\n",
      "Количество выбросов в столбце 'State_IN': 71 (0.02)\n",
      "Количество выбросов в столбце 'State_KS': 70 (0.02)\n",
      "Количество выбросов в столбце 'State_KY': 59 (0.02)\n",
      "Количество выбросов в столбце 'State_LA': 51 (0.02)\n",
      "Количество выбросов в столбце 'State_MA': 65 (0.02)\n",
      "Количество выбросов в столбце 'State_MD': 70 (0.02)\n",
      "Количество выбросов в столбце 'State_ME': 62 (0.02)\n",
      "Количество выбросов в столбце 'State_MI': 73 (0.02)\n",
      "Количество выбросов в столбце 'State_MN': 84 (0.03)\n",
      "Количество выбросов в столбце 'State_MO': 63 (0.02)\n",
      "Количество выбросов в столбце 'State_MS': 65 (0.02)\n",
      "Количество выбросов в столбце 'State_MT': 68 (0.02)\n",
      "Количество выбросов в столбце 'State_NC': 68 (0.02)\n",
      "Количество выбросов в столбце 'State_ND': 62 (0.02)\n",
      "Количество выбросов в столбце 'State_NE': 61 (0.02)\n",
      "Количество выбросов в столбце 'State_NH': 56 (0.02)\n",
      "Количество выбросов в столбце 'State_NJ': 68 (0.02)\n",
      "Количество выбросов в столбце 'State_NM': 62 (0.02)\n",
      "Количество выбросов в столбце 'State_NV': 66 (0.02)\n",
      "Количество выбросов в столбце 'State_NY': 83 (0.02)\n",
      "Количество выбросов в столбце 'State_OH': 78 (0.02)\n",
      "Количество выбросов в столбце 'State_OK': 61 (0.02)\n",
      "Количество выбросов в столбце 'State_OR': 78 (0.02)\n",
      "Количество выбросов в столбце 'State_PA': 45 (0.01)\n",
      "Количество выбросов в столбце 'State_RI': 65 (0.02)\n",
      "Количество выбросов в столбце 'State_SC': 60 (0.02)\n",
      "Количество выбросов в столбце 'State_SD': 60 (0.02)\n",
      "Количество выбросов в столбце 'State_TN': 53 (0.02)\n",
      "Количество выбросов в столбце 'State_TX': 72 (0.02)\n",
      "Количество выбросов в столбце 'State_UT': 72 (0.02)\n",
      "Количество выбросов в столбце 'State_VA': 77 (0.02)\n",
      "Количество выбросов в столбце 'State_VT': 73 (0.02)\n",
      "Количество выбросов в столбце 'State_WA': 66 (0.02)\n",
      "Количество выбросов в столбце 'State_WI': 78 (0.02)\n",
      "Количество выбросов в столбце 'State_WV': 106 (0.03)\n",
      "Количество выбросов в столбце 'State_WY': 77 (0.02)\n",
      "Количество выбросов в столбце 'International plan_Yes': 323 (0.1)\n",
      "Количество выбросов в столбце 'Voice mail plan_Yes': 0 (0.0)\n"
     ]
    }
   ],
   "source": [
    "def detect_outliers(column):\n",
    "    Q1 = column.quantile(0.25)\n",
    "    Q3 = column.quantile(0.75)\n",
    "    IQR = Q3 - Q1\n",
    "\n",
    "    lower_bound = Q1 - 1.5 * IQR\n",
    "    upper_bound = Q3 + 1.5 * IQR\n",
    "\n",
    "    outliers = (column < lower_bound) | (column > upper_bound)\n",
    "    return outliers\n",
    "\n",
    "column_to_check = df_clf.iloc[:, :16]\n",
    "df_res = df_clf.iloc[:, 16:]\n",
    "Q1 = column_to_check.quantile(0.25)\n",
    "Q3 = column_to_check.quantile(0.75)\n",
    "\n",
    "# Рассчитываем межквартильный размах (IQR)\n",
    "IQR = Q3 - Q1\n",
    "\n",
    "# Определяем границы для определения выбросов\n",
    "lower_bound = Q1 - 1.5 * IQR\n",
    "upper_bound = Q3 + 1.5 * IQR\n",
    "\n",
    "\n",
    "# Фильтруем строки, удаляя выбросы\n",
    "column_to_check = column_to_check[(column_to_check >= lower_bound) & (column_to_check <= upper_bound)]\n",
    "df_clf = pd.concat([column_to_check, df_res], axis=1)\n",
    "\n",
    "for column in df_clf.columns:\n",
    "    if pd.api.types.is_numeric_dtype(df_clf[column]):\n",
    "        outliers = detect_outliers(df_clf[column])\n",
    "        print(f\"Количество выбросов в столбце '{column}': {outliers.sum()} ({round((outliers.sum() /df_clf[column].size), 2)})\")\n",
    "        "
   ],
   "metadata": {
    "collapsed": false,
    "ExecuteTime": {
     "end_time": "2024-02-03T06:58:14.121812600Z",
     "start_time": "2024-02-03T06:58:13.871734600Z"
    }
   },
   "id": "b38479b52b6eb4c8"
  },
  {
   "cell_type": "markdown",
   "source": [
    "Избавимся от пропусков"
   ],
   "metadata": {
    "collapsed": false
   },
   "id": "aff767b1be15c064"
  },
  {
   "cell_type": "code",
   "execution_count": 85,
   "outputs": [
    {
     "name": "stdout",
     "output_type": "stream",
     "text": [
      "<class 'pandas.core.frame.DataFrame'>\n",
      "RangeIndex: 3333 entries, 0 to 3332\n",
      "Data columns (total 69 columns):\n",
      " #   Column                  Non-Null Count  Dtype  \n",
      "---  ------                  --------------  -----  \n",
      " 0   Account length          3333 non-null   float64\n",
      " 1   Area code               3333 non-null   float64\n",
      " 2   Number vmail messages   3333 non-null   float64\n",
      " 3   Total day minutes       3333 non-null   float64\n",
      " 4   Total day calls         3333 non-null   float64\n",
      " 5   Total day charge        3333 non-null   float64\n",
      " 6   Total eve minutes       3333 non-null   float64\n",
      " 7   Total eve calls         3333 non-null   float64\n",
      " 8   Total eve charge        3333 non-null   float64\n",
      " 9   Total night minutes     3333 non-null   float64\n",
      " 10  Total night calls       3333 non-null   float64\n",
      " 11  Total night charge      3333 non-null   float64\n",
      " 12  Total intl minutes      3333 non-null   float64\n",
      " 13  Total intl calls        3333 non-null   float64\n",
      " 14  Total intl charge       3333 non-null   float64\n",
      " 15  Customer service calls  3333 non-null   float64\n",
      " 16  Churn                   3333 non-null   float64\n",
      " 17  State_AL                3333 non-null   float64\n",
      " 18  State_AR                3333 non-null   float64\n",
      " 19  State_AZ                3333 non-null   float64\n",
      " 20  State_CA                3333 non-null   float64\n",
      " 21  State_CO                3333 non-null   float64\n",
      " 22  State_CT                3333 non-null   float64\n",
      " 23  State_DC                3333 non-null   float64\n",
      " 24  State_DE                3333 non-null   float64\n",
      " 25  State_FL                3333 non-null   float64\n",
      " 26  State_GA                3333 non-null   float64\n",
      " 27  State_HI                3333 non-null   float64\n",
      " 28  State_IA                3333 non-null   float64\n",
      " 29  State_ID                3333 non-null   float64\n",
      " 30  State_IL                3333 non-null   float64\n",
      " 31  State_IN                3333 non-null   float64\n",
      " 32  State_KS                3333 non-null   float64\n",
      " 33  State_KY                3333 non-null   float64\n",
      " 34  State_LA                3333 non-null   float64\n",
      " 35  State_MA                3333 non-null   float64\n",
      " 36  State_MD                3333 non-null   float64\n",
      " 37  State_ME                3333 non-null   float64\n",
      " 38  State_MI                3333 non-null   float64\n",
      " 39  State_MN                3333 non-null   float64\n",
      " 40  State_MO                3333 non-null   float64\n",
      " 41  State_MS                3333 non-null   float64\n",
      " 42  State_MT                3333 non-null   float64\n",
      " 43  State_NC                3333 non-null   float64\n",
      " 44  State_ND                3333 non-null   float64\n",
      " 45  State_NE                3333 non-null   float64\n",
      " 46  State_NH                3333 non-null   float64\n",
      " 47  State_NJ                3333 non-null   float64\n",
      " 48  State_NM                3333 non-null   float64\n",
      " 49  State_NV                3333 non-null   float64\n",
      " 50  State_NY                3333 non-null   float64\n",
      " 51  State_OH                3333 non-null   float64\n",
      " 52  State_OK                3333 non-null   float64\n",
      " 53  State_OR                3333 non-null   float64\n",
      " 54  State_PA                3333 non-null   float64\n",
      " 55  State_RI                3333 non-null   float64\n",
      " 56  State_SC                3333 non-null   float64\n",
      " 57  State_SD                3333 non-null   float64\n",
      " 58  State_TN                3333 non-null   float64\n",
      " 59  State_TX                3333 non-null   float64\n",
      " 60  State_UT                3333 non-null   float64\n",
      " 61  State_VA                3333 non-null   float64\n",
      " 62  State_VT                3333 non-null   float64\n",
      " 63  State_WA                3333 non-null   float64\n",
      " 64  State_WI                3333 non-null   float64\n",
      " 65  State_WV                3333 non-null   float64\n",
      " 66  State_WY                3333 non-null   float64\n",
      " 67  International plan_Yes  3333 non-null   float64\n",
      " 68  Voice mail plan_Yes     3333 non-null   float64\n",
      "dtypes: float64(69)\n",
      "memory usage: 1.8 MB\n"
     ]
    }
   ],
   "source": [
    "scaler = MinMaxScaler()\n",
    "normalized_data = scaler.fit_transform(df_clf)\n",
    "df_clf = pd.DataFrame(normalized_data, columns=df_clf.columns)\n",
    "\n",
    "imputer = KNNImputer()\n",
    "df_filled = imputer.fit_transform(df_clf)\n",
    "df_clf = pd.DataFrame(df_filled, columns=df_clf.columns)\n",
    "df_clf.info()"
   ],
   "metadata": {
    "collapsed": false,
    "ExecuteTime": {
     "end_time": "2024-02-03T06:58:14.294074200Z",
     "start_time": "2024-02-03T06:58:14.059291600Z"
    }
   },
   "id": "7d99fa36fabc93ce"
  },
  {
   "cell_type": "markdown",
   "source": [
    "Выполним стандартизацию данных"
   ],
   "metadata": {
    "collapsed": false
   },
   "id": "526d299059425f92"
  },
  {
   "cell_type": "code",
   "execution_count": 86,
   "outputs": [],
   "source": [
    "columns_except_one = [col for col in df_clf.columns if col != 'Churn']\n",
    "X = df_clf[columns_except_one]\n",
    "y = df_clf['Churn']\n",
    "scaler = StandardScaler()\n",
    "scaled_data = scaler.fit_transform(X)\n",
    "df = pd.DataFrame(scaled_data, columns=X.columns)\n",
    "df = pd.concat([df, y], axis=1)\n",
    "columns_except_one = [col for col in df.columns if col != 'Churn']\n",
    "X = df[columns_except_one]\n",
    "y = df['Churn']"
   ],
   "metadata": {
    "collapsed": false,
    "ExecuteTime": {
     "end_time": "2024-02-03T06:58:14.346919400Z",
     "start_time": "2024-02-03T06:58:14.294074200Z"
    }
   },
   "id": "4f4fdb5cff21f4be"
  },
  {
   "cell_type": "markdown",
   "source": [
    "Построим ML модели классификации"
   ],
   "metadata": {
    "collapsed": false
   },
   "id": "36cc3d76017a67d8"
  },
  {
   "cell_type": "code",
   "execution_count": 87,
   "outputs": [
    {
     "name": "stdout",
     "output_type": "stream",
     "text": [
      "Accuracy of Decision Tree: 0.9115442278860569\n",
      "Accuracy of Bagging: 0.9400299850074962\n",
      "Accuracy of AdaBoost: 0.8845577211394303\n",
      "Accuracy of Stacking: 0.9295352323838081\n"
     ]
    }
   ],
   "source": [
    "X = X.to_numpy()\n",
    "y = y.to_numpy()\n",
    "\n",
    "# Разделение данных на обучающий и тестовый наборы\n",
    "X_train, X_test, y_train, y_test = train_test_split(X, y, test_size=0.2, random_state=42)\n",
    "\n",
    "# Одиночное дерево решений\n",
    "decision_tree = DecisionTreeClassifier(random_state=42)\n",
    "param_grid = {\n",
    "    'criterion': ['gini', 'entropy'],\n",
    "    'max_depth': [None, 5, 10, 15],\n",
    "    'min_samples_split': [2, 5, 10],\n",
    "    'min_samples_leaf': [1, 2, 4]\n",
    "}\n",
    "grid_search_tree = GridSearchCV(decision_tree, param_grid, cv=5, scoring='accuracy')\n",
    "grid_search_tree.fit(X_train, y_train)\n",
    "best_tree = grid_search_tree.best_estimator_\n",
    "best_tree.fit(X_train, y_train)\n",
    "y_pred_tree = best_tree.predict(X_test)\n",
    "\n",
    "# Бэгинг классификация\n",
    "bagging = BaggingClassifier(estimator=DecisionTreeClassifier(random_state=42), random_state=42)\n",
    "param_grid = {'n_estimators': [10, 50, 100]}\n",
    "grid_search_bagging = GridSearchCV(bagging, param_grid, cv=5)\n",
    "grid_search_bagging.fit(X_train, y_train)\n",
    "best_bagging = grid_search_bagging.best_estimator_\n",
    "best_bagging.fit(X_train, y_train)\n",
    "y_pred_bagging = best_bagging.predict(X_test)\n",
    "\n",
    "# Бустинг классификация\n",
    "adaboost = AdaBoostClassifier(estimator=DecisionTreeClassifier(random_state=42), random_state=42)\n",
    "param_grid = {'n_estimators': [10, 50, 100]}\n",
    "grid_search_adaboost = GridSearchCV(adaboost, param_grid, cv=5)\n",
    "grid_search_adaboost.fit(X_train, y_train)\n",
    "best_adaboost = grid_search_adaboost.best_estimator_\n",
    "best_adaboost.fit(X_train, y_train)\n",
    "y_pred_adaboost = best_adaboost.predict(X_test)\n",
    "\n",
    "# Стекинг классификация\n",
    "estimators = [('decision_tree', DecisionTreeClassifier(random_state=42)),\n",
    "              ('bagging', BaggingClassifier(estimator=DecisionTreeClassifier(random_state=42), random_state=42)),\n",
    "              ('adaboost', AdaBoostClassifier(estimator=DecisionTreeClassifier(random_state=42), random_state=42))]\n",
    "stacking = StackingClassifier(estimators=estimators, final_estimator=LogisticRegression())\n",
    "param_grid = {'final_estimator__C': [0.1, 1, 10]}\n",
    "grid_search_stacking = GridSearchCV(stacking, param_grid, cv=5)\n",
    "grid_search_stacking.fit(X_train, y_train)\n",
    "best_stacking = grid_search_stacking.best_estimator_\n",
    "best_stacking.fit(X_train, y_train)\n",
    "y_pred_stacking = best_stacking.predict(X_test)\n",
    "\n",
    "accuracy_dt = accuracy_score(y_test, y_pred_tree)\n",
    "accuracy_bagging = accuracy_score(y_test, y_pred_bagging)\n",
    "accuracy_adaboost = accuracy_score(y_test, y_pred_adaboost)\n",
    "accuracy_stacking = accuracy_score(y_test, y_pred_stacking)\n",
    "\n",
    "print(\"Accuracy of Decision Tree:\", accuracy_dt)\n",
    "print(\"Accuracy of Bagging:\", accuracy_bagging)\n",
    "print(\"Accuracy of AdaBoost:\", accuracy_adaboost)\n",
    "print(\"Accuracy of Stacking:\", accuracy_stacking)"
   ],
   "metadata": {
    "collapsed": false,
    "ExecuteTime": {
     "end_time": "2024-02-03T07:00:18.872818500Z",
     "start_time": "2024-02-03T06:58:14.331278900Z"
    }
   },
   "id": "4c0dd928b76008e7"
  },
  {
   "cell_type": "markdown",
   "source": [
    "Значения Accuracy из третьей работы:\n",
    "KNN Accuracy: 0.8470764617691154\n",
    "Logistic Regression Accuracy: 0.8545727136431784\n",
    "SVM Accuracy: 0.8575712143928036\n",
    "\n",
    "Эти значения меньше, чем у модели дерева и ассамблей.\n",
    "Что говорит о более высокой точности моделей дерева и ассамблей\n",
    "\n",
    "Обрежем модель дерева"
   ],
   "metadata": {
    "collapsed": false
   },
   "id": "875f967bf10c38b7"
  },
  {
   "cell_type": "code",
   "execution_count": 88,
   "outputs": [
    {
     "name": "stdout",
     "output_type": "stream",
     "text": [
      "Accuracy of Pruned Decision Tree: 0.8995502248875562\n"
     ]
    }
   ],
   "source": [
    "tree_pruned = DecisionTreeClassifier(max_depth=3, random_state=42)\n",
    "tree_pruned.fit(X_train, y_train)\n",
    "y_pred_pruned = tree_pruned.predict(X_test)\n",
    "accuracy_pruned = accuracy_score(y_test, y_pred_pruned)\n",
    "\n",
    "# Вывод результатов\n",
    "print(\"Accuracy of Pruned Decision Tree:\", accuracy_pruned)"
   ],
   "metadata": {
    "collapsed": false,
    "ExecuteTime": {
     "end_time": "2024-02-03T07:00:18.901194700Z",
     "start_time": "2024-02-03T07:00:18.872818500Z"
    }
   },
   "id": "b8d2acbfa758bed6"
  },
  {
   "cell_type": "markdown",
   "source": [
    "Вывод:после обрезки у дерева упала точность, что может указывать на то, что обрезка привела к потере некоторых важных зависимостей в данных из-за уменьшения глубины дерева. Таким образом, можно доказать, что изменение глубины дерева влияет на результат.\n",
    "\n",
    "Задание №2\n",
    "Задачи регрессии\n",
    "\n",
    "Используем датасет house_price"
   ],
   "metadata": {
    "collapsed": false
   },
   "id": "c9eda01cd0398f67"
  },
  {
   "cell_type": "code",
   "execution_count": 89,
   "outputs": [
    {
     "name": "stdout",
     "output_type": "stream",
     "text": [
      "<class 'pandas.core.frame.DataFrame'>\n",
      "RangeIndex: 808 entries, 0 to 807\n",
      "Data columns (total 48 columns):\n",
      " #   Column                     Non-Null Count  Dtype  \n",
      "---  ------                     --------------  -----  \n",
      " 0   id                         808 non-null    int64  \n",
      " 1   Количество.комнат          808 non-null    int64  \n",
      " 2   Студия                     808 non-null    int64  \n",
      " 3   Общая.площадь              808 non-null    float64\n",
      " 4   Этаж                       808 non-null    int64  \n",
      " 5   Этажей.в.доме              808 non-null    int64  \n",
      " 6   Парковка                   808 non-null    int64  \n",
      " 7   Без.ремонта                808 non-null    int64  \n",
      " 8   Дизайнерский               808 non-null    int64  \n",
      " 9   Евроремонт                 808 non-null    int64  \n",
      " 10  Косметический              808 non-null    int64  \n",
      " 11  Балкон                     808 non-null    int64  \n",
      " 12  Лоджия                     808 non-null    int64  \n",
      " 13  Совмещенный.санузел        808 non-null    int64  \n",
      " 14  Раздельный.санузел         808 non-null    int64  \n",
      " 15  Лифт                       808 non-null    int64  \n",
      " 16  Грузовой.лифт              808 non-null    int64  \n",
      " 17  Мусоропровод               808 non-null    int64  \n",
      " 18  Год.постройки              808 non-null    int64  \n",
      " 19  Аварийный                  808 non-null    int64  \n",
      " 20  Железобетонные.перекрытия  808 non-null    int64  \n",
      " 21  Смешанные.перекрытия       808 non-null    int64  \n",
      " 22  Деревянные.перекрытия      808 non-null    int64  \n",
      " 23  Иные.перекрытия            808 non-null    int64  \n",
      " 24  Панельные.стены            808 non-null    int64  \n",
      " 25  Блочные.стены              808 non-null    int64  \n",
      " 26  Деревянные.стены           808 non-null    int64  \n",
      " 27  Кирпичные.стены            808 non-null    int64  \n",
      " 28  Монолитные.стены           808 non-null    int64  \n",
      " 29  Смешанные.стены            808 non-null    int64  \n",
      " 30  Школа.1000                 808 non-null    int64  \n",
      " 31  ВУЗ.1000                   808 non-null    int64  \n",
      " 32  ТЦ.1000                    808 non-null    int64  \n",
      " 33  Стоматология.1000          808 non-null    int64  \n",
      " 34  Почта.1000                 808 non-null    int64  \n",
      " 35  Поликлиника.1000           808 non-null    int64  \n",
      " 36  Парк.1000                  808 non-null    int64  \n",
      " 37  Остановка.1000             808 non-null    int64  \n",
      " 38  Одежда..1000               808 non-null    int64  \n",
      " 39  Супер3кет.1000             808 non-null    int64  \n",
      " 40  Кинотеатр.1000             808 non-null    int64  \n",
      " 41  Кафе.1000                  808 non-null    int64  \n",
      " 42  АЗС.1000                   808 non-null    int64  \n",
      " 43  Детский.сад.1000           808 non-null    int64  \n",
      " 44  Бар.1000                   808 non-null    int64  \n",
      " 45  Банк.1000                  808 non-null    int64  \n",
      " 46  Аптека.1000                808 non-null    int64  \n",
      " 47  Цена                       808 non-null    float64\n",
      "dtypes: float64(2), int64(46)\n",
      "memory usage: 303.1 KB\n"
     ]
    }
   ],
   "source": [
    "df_reg = pd.read_csv('house_price.csv')\n",
    "df_reg.info()"
   ],
   "metadata": {
    "collapsed": false,
    "ExecuteTime": {
     "end_time": "2024-02-03T07:00:18.963808200Z",
     "start_time": "2024-02-03T07:00:18.901194700Z"
    }
   },
   "id": "1785b681146ed88e"
  },
  {
   "cell_type": "markdown",
   "source": [
    "Избавимся от выбросов"
   ],
   "metadata": {
    "collapsed": false
   },
   "id": "615fa99e050f4291"
  },
  {
   "cell_type": "code",
   "execution_count": 90,
   "outputs": [
    {
     "name": "stdout",
     "output_type": "stream",
     "text": [
      "Количество выбросов в столбце 'Общая.площадь': 0 (0.0)\n",
      "Количество выбросов в столбце 'Этаж': 0 (0.0)\n",
      "Количество выбросов в столбце 'Этажей.в.доме': 0 (0.0)\n",
      "Количество выбросов в столбце 'Школа.1000': 0 (0.0)\n",
      "Количество выбросов в столбце 'ВУЗ.1000': 40 (0.05)\n",
      "Количество выбросов в столбце 'ТЦ.1000': 0 (0.0)\n",
      "Количество выбросов в столбце 'Стоматология.1000': 21 (0.03)\n",
      "Количество выбросов в столбце 'Почта.1000': 0 (0.0)\n",
      "Количество выбросов в столбце 'Поликлиника.1000': 0 (0.0)\n",
      "Количество выбросов в столбце 'Парк.1000': 0 (0.0)\n",
      "Количество выбросов в столбце 'Остановка.1000': 0 (0.0)\n",
      "Количество выбросов в столбце 'Одежда..1000': 34 (0.04)\n",
      "Количество выбросов в столбце 'Супер3кет.1000': 0 (0.0)\n",
      "Количество выбросов в столбце 'Кинотеатр.1000': 0 (0.0)\n",
      "Количество выбросов в столбце 'Кафе.1000': 26 (0.03)\n",
      "Количество выбросов в столбце 'АЗС.1000': 0 (0.0)\n",
      "Количество выбросов в столбце 'Детский.сад.1000': 15 (0.02)\n",
      "Количество выбросов в столбце 'Бар.1000': 41 (0.05)\n",
      "Количество выбросов в столбце 'Банк.1000': 8 (0.01)\n",
      "Количество выбросов в столбце 'Аптека.1000': 7 (0.01)\n",
      "Количество выбросов в столбце 'id': 0 (0.0)\n",
      "Количество выбросов в столбце 'Количество.комнат': 0 (0.0)\n",
      "Количество выбросов в столбце 'Студия': 33 (0.04)\n",
      "Количество выбросов в столбце 'Парковка': 115 (0.14)\n",
      "Количество выбросов в столбце 'Без.ремонта': 82 (0.1)\n",
      "Количество выбросов в столбце 'Дизайнерский': 20 (0.02)\n",
      "Количество выбросов в столбце 'Евроремонт': 82 (0.1)\n",
      "Количество выбросов в столбце 'Косметический': 184 (0.23)\n",
      "Количество выбросов в столбце 'Балкон': 8 (0.01)\n",
      "Количество выбросов в столбце 'Лоджия': 139 (0.17)\n",
      "Количество выбросов в столбце 'Совмещенный.санузел': 0 (0.0)\n",
      "Количество выбросов в столбце 'Раздельный.санузел': 0 (0.0)\n",
      "Количество выбросов в столбце 'Лифт': 3 (0.0)\n",
      "Количество выбросов в столбце 'Грузовой.лифт': 74 (0.09)\n",
      "Количество выбросов в столбце 'Мусоропровод': 0 (0.0)\n",
      "Количество выбросов в столбце 'Год.постройки': 0 (0.0)\n",
      "Количество выбросов в столбце 'Аварийный': 3 (0.0)\n",
      "Количество выбросов в столбце 'Железобетонные.перекрытия': 65 (0.08)\n",
      "Количество выбросов в столбце 'Смешанные.перекрытия': 25 (0.03)\n",
      "Количество выбросов в столбце 'Деревянные.перекрытия': 37 (0.05)\n",
      "Количество выбросов в столбце 'Иные.перекрытия': 3 (0.0)\n",
      "Количество выбросов в столбце 'Панельные.стены': 0 (0.0)\n",
      "Количество выбросов в столбце 'Блочные.стены': 14 (0.02)\n",
      "Количество выбросов в столбце 'Деревянные.стены': 2 (0.0)\n",
      "Количество выбросов в столбце 'Кирпичные.стены': 0 (0.0)\n",
      "Количество выбросов в столбце 'Монолитные.стены': 33 (0.04)\n",
      "Количество выбросов в столбце 'Смешанные.стены': 16 (0.02)\n",
      "Количество выбросов в столбце 'Цена': 18 (0.02)\n"
     ]
    },
    {
     "name": "stderr",
     "output_type": "stream",
     "text": [
      "C:\\Users\\sagop\\AppData\\Local\\Temp\\ipykernel_9496\\1129291462.py:27: FutureWarning: Automatic reindexing on DataFrame vs Series comparisons is deprecated and will raise ValueError in a future version. Do `left, right = left.align(right, axis=1, copy=False)` before e.g. `left == right`\n",
      "  columns_check = columns_check[(columns_check >= lower_bound) & (columns_check <= upper_bound)]\n"
     ]
    }
   ],
   "source": [
    "def detect_outliers(column):\n",
    "    Q1 = column.quantile(0.25)\n",
    "    Q3 = column.quantile(0.75)\n",
    "    IQR = Q3 - Q1\n",
    "\n",
    "    lower_bound = Q1 - 1.5 * IQR\n",
    "    upper_bound = Q3 + 1.5 * IQR\n",
    "\n",
    "    outliers = (column < lower_bound) | (column > upper_bound)\n",
    "    return outliers\n",
    "\n",
    "columns_check_1 = df_reg[['Общая.площадь', 'Этаж', 'Этажей.в.доме']]\n",
    "columns_check_2 = df_reg.loc[:, 'Школа.1000':'Аптека.1000']\n",
    "columns_check = pd.concat([columns_check_1, columns_check_2], axis=1)\n",
    "Q1 = df_reg.quantile(0.25)\n",
    "Q3 = df_reg.quantile(0.75)\n",
    "\n",
    "# Рассчитываем межквартильный размах (IQR)\n",
    "IQR = Q3 - Q1\n",
    "\n",
    "# Определяем границы для определения выбросов\n",
    "lower_bound = Q1 - 1.5 * IQR\n",
    "upper_bound = Q3 + 1.5 * IQR\n",
    "\n",
    "\n",
    "# Фильтруем строки, удаляя выбросы\n",
    "columns_check = columns_check[(columns_check >= lower_bound) & (columns_check <= upper_bound)]\n",
    "other_columns = df_reg[[col for col in df_reg.columns if col not in columns_check]]\n",
    "df_reg = pd.concat([columns_check, other_columns], axis=1)\n",
    "\n",
    "for column in df_reg.columns:\n",
    "    if pd.api.types.is_numeric_dtype(df_reg[column]):\n",
    "        outliers = detect_outliers(df_reg[column])\n",
    "        print(f\"Количество выбросов в столбце '{column}': {outliers.sum()} ({round((outliers.sum() /df_reg[column].size), 2)})\")\n",
    "        "
   ],
   "metadata": {
    "collapsed": false,
    "ExecuteTime": {
     "end_time": "2024-02-03T07:00:19.049383800Z",
     "start_time": "2024-02-03T07:00:18.932305700Z"
    }
   },
   "id": "8d3b8de6049d3efb"
  },
  {
   "cell_type": "markdown",
   "source": [
    "Избавимся от пропусков"
   ],
   "metadata": {
    "collapsed": false
   },
   "id": "4712e68d7390f4be"
  },
  {
   "cell_type": "code",
   "execution_count": 91,
   "outputs": [
    {
     "name": "stdout",
     "output_type": "stream",
     "text": [
      "<class 'pandas.core.frame.DataFrame'>\n",
      "RangeIndex: 808 entries, 0 to 807\n",
      "Data columns (total 48 columns):\n",
      " #   Column                     Non-Null Count  Dtype  \n",
      "---  ------                     --------------  -----  \n",
      " 0   Общая.площадь              808 non-null    float64\n",
      " 1   Этаж                       808 non-null    float64\n",
      " 2   Этажей.в.доме              808 non-null    float64\n",
      " 3   Школа.1000                 808 non-null    float64\n",
      " 4   ВУЗ.1000                   808 non-null    float64\n",
      " 5   ТЦ.1000                    808 non-null    float64\n",
      " 6   Стоматология.1000          808 non-null    float64\n",
      " 7   Почта.1000                 808 non-null    float64\n",
      " 8   Поликлиника.1000           808 non-null    float64\n",
      " 9   Парк.1000                  808 non-null    float64\n",
      " 10  Остановка.1000             808 non-null    float64\n",
      " 11  Одежда..1000               808 non-null    float64\n",
      " 12  Супер3кет.1000             808 non-null    float64\n",
      " 13  Кинотеатр.1000             808 non-null    float64\n",
      " 14  Кафе.1000                  808 non-null    float64\n",
      " 15  АЗС.1000                   808 non-null    float64\n",
      " 16  Детский.сад.1000           808 non-null    float64\n",
      " 17  Бар.1000                   808 non-null    float64\n",
      " 18  Банк.1000                  808 non-null    float64\n",
      " 19  Аптека.1000                808 non-null    float64\n",
      " 20  id                         808 non-null    float64\n",
      " 21  Количество.комнат          808 non-null    float64\n",
      " 22  Студия                     808 non-null    float64\n",
      " 23  Парковка                   808 non-null    float64\n",
      " 24  Без.ремонта                808 non-null    float64\n",
      " 25  Дизайнерский               808 non-null    float64\n",
      " 26  Евроремонт                 808 non-null    float64\n",
      " 27  Косметический              808 non-null    float64\n",
      " 28  Балкон                     808 non-null    float64\n",
      " 29  Лоджия                     808 non-null    float64\n",
      " 30  Совмещенный.санузел        808 non-null    float64\n",
      " 31  Раздельный.санузел         808 non-null    float64\n",
      " 32  Лифт                       808 non-null    float64\n",
      " 33  Грузовой.лифт              808 non-null    float64\n",
      " 34  Мусоропровод               808 non-null    float64\n",
      " 35  Год.постройки              808 non-null    float64\n",
      " 36  Аварийный                  808 non-null    float64\n",
      " 37  Железобетонные.перекрытия  808 non-null    float64\n",
      " 38  Смешанные.перекрытия       808 non-null    float64\n",
      " 39  Деревянные.перекрытия      808 non-null    float64\n",
      " 40  Иные.перекрытия            808 non-null    float64\n",
      " 41  Панельные.стены            808 non-null    float64\n",
      " 42  Блочные.стены              808 non-null    float64\n",
      " 43  Деревянные.стены           808 non-null    float64\n",
      " 44  Кирпичные.стены            808 non-null    float64\n",
      " 45  Монолитные.стены           808 non-null    float64\n",
      " 46  Смешанные.стены            808 non-null    float64\n",
      " 47  Цена                       808 non-null    float64\n",
      "dtypes: float64(48)\n",
      "memory usage: 303.1 KB\n"
     ]
    }
   ],
   "source": [
    "scaler = MinMaxScaler()\n",
    "normalized_data = scaler.fit_transform(df_reg)\n",
    "df_reg = pd.DataFrame(normalized_data, columns=df_reg.columns)\n",
    "\n",
    "\n",
    "imputer = KNNImputer()\n",
    "df_filled = imputer.fit_transform(df_reg)\n",
    "df_reg = pd.DataFrame(df_filled, columns=df_reg.columns)\n",
    "df_reg.info()"
   ],
   "metadata": {
    "collapsed": false,
    "ExecuteTime": {
     "end_time": "2024-02-03T07:00:19.111562900Z",
     "start_time": "2024-02-03T07:00:19.049383800Z"
    }
   },
   "id": "6369bc59fb804f29"
  },
  {
   "cell_type": "markdown",
   "source": [
    "Обработаем коррелирующие признаки"
   ],
   "metadata": {
    "collapsed": false
   },
   "id": "f8bc6ea81386331c"
  },
  {
   "cell_type": "code",
   "execution_count": 92,
   "outputs": [],
   "source": [
    "correlation_matrix = df_reg.corr().abs()\n",
    "threshold = 0.8\n",
    "mask = correlation_matrix.where(np.triu(np.ones(correlation_matrix.shape), k=1).astype(np.bool_))\n",
    "collinear_features = [column for column in mask.columns if any(mask[column] > threshold)]\n",
    "df_reg = df_reg.drop(columns=collinear_features[1::2])"
   ],
   "metadata": {
    "collapsed": false,
    "ExecuteTime": {
     "end_time": "2024-02-03T07:00:19.132174Z",
     "start_time": "2024-02-03T07:00:19.111562900Z"
    }
   },
   "id": "1c36be3f905dc9ec"
  },
  {
   "cell_type": "markdown",
   "source": [
    "Выполним масштабирование признаков"
   ],
   "metadata": {
    "collapsed": false
   },
   "id": "7ec933393c0a641c"
  },
  {
   "cell_type": "code",
   "execution_count": 93,
   "outputs": [],
   "source": [
    "scaler = StandardScaler()\n",
    "scaled_data = scaler.fit_transform(df_reg)\n",
    "df_reg = pd.DataFrame(scaled_data, columns=df_reg.columns)\n",
    "y = df_reg['Цена']\n",
    "columns_except_one = [col for col in df_reg.columns if col != 'Цена']\n",
    "X = df_reg[columns_except_one]"
   ],
   "metadata": {
    "collapsed": false,
    "ExecuteTime": {
     "end_time": "2024-02-03T07:00:19.184267800Z",
     "start_time": "2024-02-03T07:00:19.137178300Z"
    }
   },
   "id": "4f299edeae7f1c4f"
  },
  {
   "cell_type": "markdown",
   "source": [
    "Обучим ML модели регрессии"
   ],
   "metadata": {
    "collapsed": false
   },
   "id": "ab34415cad6be10c"
  },
  {
   "cell_type": "code",
   "execution_count": 94,
   "outputs": [
    {
     "name": "stdout",
     "output_type": "stream",
     "text": [
      "MSE регрессии единичного дерева: 0.1851630995674738\n",
      "MSE Bagging регрессии: 0.17232660107249712\n",
      "MSE AdaBoost регрессии: 0.17845796587277907\n",
      "MSE Stacking регрессии: 0.17682533227425018\n"
     ]
    }
   ],
   "source": [
    "X = X.to_numpy()\n",
    "y = y.to_numpy()\n",
    "X_train, X_test, y_train, y_test = train_test_split(X, y, test_size=0.2, random_state=42)\n",
    "\n",
    "# Регрессия единичного дерева\n",
    "tree_regressor = DecisionTreeRegressor(random_state=42)\n",
    "\n",
    "param_grid = {\n",
    "    'max_depth': [None, 5, 10, 15],\n",
    "    'min_samples_split': [2, 5, 10],\n",
    "    'min_samples_leaf': [1, 2, 4]\n",
    "}\n",
    "grid_search = GridSearchCV(estimator=tree_regressor, param_grid=param_grid, cv=5)\n",
    "grid_search.fit(X_train, y_train)\n",
    "best_tree_regressor = grid_search.best_estimator_\n",
    "y_pred = best_tree_regressor.predict(X_test)\n",
    "mse_test = mean_squared_error(y_test, y_pred)\n",
    "print(\"MSE регрессии единичного дерева:\", mse_test)\n",
    "\n",
    "# Bagging регрессия\n",
    "bagging_regressor = BaggingRegressor(estimator=DecisionTreeRegressor(random_state=42), random_state=42)\n",
    "\n",
    "param_grid = {\n",
    "    'n_estimators': [10, 50, 100],\n",
    "    'max_samples': [0.5, 0.7, 1.0],\n",
    "    'max_features': [0.5, 0.7, 1.0],\n",
    "}\n",
    "\n",
    "grid_search = GridSearchCV(estimator=bagging_regressor, param_grid=param_grid, cv=5)\n",
    "grid_search.fit(X_train, y_train)\n",
    "best_bagging_regressor = grid_search.best_estimator_\n",
    "y_pred = best_bagging_regressor.predict(X_test)\n",
    "mse_test = mean_squared_error(y_test, y_pred)\n",
    "print(\"MSE Bagging регрессии:\", mse_test)\n",
    "\n",
    "# AdaBoost регрессия\n",
    "adaboost_regressor = AdaBoostRegressor(estimator=DecisionTreeRegressor(random_state=42), random_state=42)\n",
    "\n",
    "param_grid = {\n",
    "    'n_estimators': [50, 100, 200]\n",
    "}\n",
    "\n",
    "grid_search = GridSearchCV(estimator=adaboost_regressor, param_grid=param_grid, cv=5)\n",
    "grid_search.fit(X_train, y_train)\n",
    "best_adaboost_regressor = grid_search.best_estimator_\n",
    "y_pred = best_adaboost_regressor.predict(X_test)\n",
    "mse_test = mean_squared_error(y_test, y_pred)\n",
    "print(\"MSE AdaBoost регрессии:\", mse_test)\n",
    "\n",
    "# Stacking регрессия\n",
    "base_model = [\n",
    "    ('random_forest', RandomForestRegressor(random_state=42)),\n",
    "    ('decision_tree', DecisionTreeRegressor(random_state=42))\n",
    "]\n",
    "meta_model = LinearRegression()\n",
    "stacking_regressor = StackingRegressor(estimators=base_model, final_estimator=meta_model)\n",
    "\n",
    "param_grid = {\n",
    "    'random_forest__n_estimators': [50, 100]\n",
    "}\n",
    "grid_search = GridSearchCV(estimator=stacking_regressor, param_grid=param_grid, cv=5)\n",
    "grid_search.fit(X_train, y_train)\n",
    "best_stacking_regressor = grid_search.best_estimator_\n",
    "y_pred = best_stacking_regressor.predict(X_test)\n",
    "mse_test = mean_squared_error(y_test, y_pred)\n",
    "print(\"MSE Stacking регрессии:\", mse_test)"
   ],
   "metadata": {
    "collapsed": false,
    "ExecuteTime": {
     "end_time": "2024-02-03T07:02:37.960956500Z",
     "start_time": "2024-02-03T07:00:19.145001500Z"
    }
   },
   "id": "af0e1eee7af02b0a"
  },
  {
   "cell_type": "markdown",
   "source": [
    "Сравним результаты единичного дерева и ассамблей со значениями регрессий из четвёртой работы\n",
    "\n",
    "Значение среднеквадратичной ошибки (MSE) для линейной регрессии: 0.18084396740561526\n",
    "Значение среднеквадратичной ошибки (MSE) для лассо регрессии: 0.2077510861887075\n",
    "Значение среднеквадратичной ошибки (MSE) для гребневой регрессии: 0.17798457050904343\n",
    "Значение среднеквадратичной ошибки (MSE) для SVR регрессии: 0.17074521360091618\n",
    "Среднеквадратичная ошибка (MSE) для полиномиальной регрессии: 60.35375280261971\n",
    "\n",
    "Результаты единичного дерева и ассамблей лучше моделей лассо и полиномиальных регрессий\n",
    "Самая лучшая модель Bagging регрессии уступает в качестве SVR регрессии\n",
    "\n",
    "Обрежем модель дерева"
   ],
   "metadata": {
    "collapsed": false
   },
   "id": "b3244996f8a194a3"
  },
  {
   "cell_type": "code",
   "execution_count": 95,
   "outputs": [
    {
     "name": "stdout",
     "output_type": "stream",
     "text": [
      "MSE обрезанного дерева: 0.22315644368293\n"
     ]
    }
   ],
   "source": [
    "tree_model_pruned = DecisionTreeRegressor(max_depth=3, random_state=42)\n",
    "kfold = KFold(n_splits=5, shuffle=True, random_state=42)\n",
    "pruned_scores = cross_val_score(tree_model_pruned, X_train, y_train, cv=kfold, scoring='neg_mean_squared_error')\n",
    "mean_pruned_score = -pruned_scores.mean()\n",
    "print(\"MSE обрезанного дерева:\", mean_pruned_score)"
   ],
   "metadata": {
    "collapsed": false,
    "ExecuteTime": {
     "end_time": "2024-02-03T07:02:38.039887Z",
     "start_time": "2024-02-03T07:02:37.960956500Z"
    }
   },
   "id": "3a5d159864e1301"
  },
  {
   "cell_type": "markdown",
   "source": [
    "Вывод:после обрезки у дерева упала точность, что может указывать на то, что обрезка привела к потере некоторых важных зависимостей в данных из-за уменьшения глубины дерева. Таким образом, можно доказать, что изменение глубины дерева влияет на результат.\n",
    "\n",
    "Общий вывод: изучены модели классификации и регрессии единичного дерева и ассамблей"
   ],
   "metadata": {
    "collapsed": false
   },
   "id": "f566ae26f1cb0a3c"
  },
  {
   "cell_type": "markdown",
   "source": [],
   "metadata": {
    "collapsed": false
   },
   "id": "9946744f96248abb"
  }
 ],
 "metadata": {
  "kernelspec": {
   "display_name": "Python 3",
   "language": "python",
   "name": "python3"
  },
  "language_info": {
   "codemirror_mode": {
    "name": "ipython",
    "version": 2
   },
   "file_extension": ".py",
   "mimetype": "text/x-python",
   "name": "python",
   "nbconvert_exporter": "python",
   "pygments_lexer": "ipython2",
   "version": "2.7.6"
  }
 },
 "nbformat": 4,
 "nbformat_minor": 5
}
